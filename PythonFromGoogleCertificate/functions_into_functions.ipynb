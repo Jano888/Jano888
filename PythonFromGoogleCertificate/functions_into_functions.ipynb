{
 "cells": [
  {
   "cell_type": "code",
   "execution_count": 8,
   "metadata": {},
   "outputs": [
    {
     "name": "stdout",
     "output_type": "stream",
     "text": [
      "[0, 1, 2, 3, 4, 5, 6, 7, 8, 8, 8, 9]\n"
     ]
    }
   ],
   "source": [
    "#use the sorted function within the print function\n",
    "#the variable 'numbers' is assigned a list of random numbers\n",
    "#then 'numbers' is run through the sorted function which is then run through the print function\n",
    "\n",
    "numbers = [6,9,4,5,7,3,1,2,8,8,8,0]\n",
    "print(sorted(numbers))"
   ]
  },
  {
   "cell_type": "code",
   "execution_count": 11,
   "metadata": {},
   "outputs": [
    {
     "name": "stdout",
     "output_type": "stream",
     "text": [
      "['a', 'a', 'b', 'd', 'd', 'f', 'f', 'f', 'f', 'f', 'h', 'h', 'i', 'i', 'j', 'k', 'l', 'l', 'l', 'r', 's', 's', 's', 's', 'u']\n"
     ]
    }
   ],
   "source": [
    "#another example sorting a string of random letters\n",
    "\n",
    "letters = ['a','s','l','k','f','d','f','j','h','a','l','s','d','f','i','u','b','r','s','f','l','i','h','s','f']\n",
    "print(sorted(letters))"
   ]
  }
 ],
 "metadata": {
  "kernelspec": {
   "display_name": "Python 3.10",
   "language": "python",
   "name": "python3.10"
  },
  "language_info": {
   "codemirror_mode": {
    "name": "ipython",
    "version": 3
   },
   "file_extension": ".py",
   "mimetype": "text/x-python",
   "name": "python",
   "nbconvert_exporter": "python",
   "pygments_lexer": "ipython3",
   "version": "3.10.5"
  }
 },
 "nbformat": 4,
 "nbformat_minor": 1
}
