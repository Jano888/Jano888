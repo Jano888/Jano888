{
 "cells": [
  {
   "cell_type": "code",
   "execution_count": 8,
   "metadata": {},
   "outputs": [
    {
     "name": "stdout",
     "output_type": "stream",
     "text": [
      "Before changing an element: ['elarson', 'fgarcia', 'tshah', 'sgilmore']\n",
      "After changing an element: ['elarson', 'bmoreno', 'tshah', 'sgilmore']\n"
     ]
    }
   ],
   "source": [
    "#replace an item in a list with a new item\n",
    "\n",
    "#the format is variable (username_list) followed by square brackets with the index of the item to be replaced...\n",
    "\n",
    "#(in this case '[1]', or the second item) then equals sign ('=') and the new item \n",
    "\n",
    "#note that this is different than inserting a new item into a list\n",
    "\n",
    "username_list = [\"elarson\", \"fgarcia\", \"tshah\", \"sgilmore\"]\n",
    "print(\"Before changing an element:\", username_list)\n",
    "username_list[1] = \"bmoreno\"\n",
    "print(\"After changing an element:\", username_list)"
   ]
  },
  {
   "cell_type": "code",
   "execution_count": 9,
   "metadata": {},
   "outputs": [
    {
     "name": "stdout",
     "output_type": "stream",
     "text": [
      "Before inserting an element: ['elarson', 'bmoreno', 'tshah', 'sgilmore']\n",
      "After inserting an element: ['elarson', 'bmoreno', 'wjaffrey', 'tshah', 'sgilmore']\n"
     ]
    }
   ],
   "source": [
    "#insert a new item into a list using the '.insert' method\n",
    "\n",
    "#the format is 'listVariable.insert(index, \"new item\")'\n",
    "\n",
    "#note that this does not delete the previous index item\n",
    "\n",
    "username_list = [\"elarson\", \"bmoreno\", \"tshah\", \"sgilmore\"]\n",
    "print(\"Before inserting an element:\", username_list)\n",
    "username_list.insert(2,\"wjaffrey\")\n",
    "print(\"After inserting an element:\", username_list)"
   ]
  },
  {
   "cell_type": "code",
   "execution_count": 10,
   "metadata": {},
   "outputs": [
    {
     "name": "stdout",
     "output_type": "stream",
     "text": [
      "Before removing an element: ['elarson', 'bmoreno', 'wjaffrey', 'tshah', 'sgilmore']\n",
      "After removing an element: ['bmoreno', 'wjaffrey', 'tshah', 'sgilmore']\n"
     ]
    }
   ],
   "source": [
    "#remove an item from a list using the '.remove()' method\n",
    "\n",
    "#the format is 'listVariable.remove(\"item\")'\n",
    "\n",
    "#this will remove the first instance of the 'item' from the list\n",
    "\n",
    "username_list = [\"elarson\", \"bmoreno\", \"wjaffrey\", \"tshah\", \"sgilmore\"]\n",
    "print(\"Before removing an element:\", username_list)\n",
    "username_list.remove(\"elarson\")\n",
    "print(\"After removing an element:\", username_list)"
   ]
  },
  {
   "cell_type": "code",
   "execution_count": 11,
   "metadata": {},
   "outputs": [
    {
     "name": "stdout",
     "output_type": "stream",
     "text": [
      "Before appending an element: ['bmoreno', 'wjaffrey', 'tshah', 'sgilmore']\n",
      "After appending an element: ['bmoreno', 'wjaffrey', 'tshah', 'sgilmore', 'btang']\n"
     ]
    }
   ],
   "source": [
    "#use the '.append()' method to add an item to the end of a list\n",
    "\n",
    "#the format is 'listVariable.append(\"item\")'\n",
    "\n",
    "username_list = [\"bmoreno\", \"wjaffrey\", \"tshah\", \"sgilmore\"]\n",
    "print(\"Before appending an element:\", username_list)\n",
    "username_list.append(\"btang\")\n",
    "print(\"After appending an element:\", username_list)"
   ]
  }
 ],
 "metadata": {
  "kernelspec": {
   "display_name": "Python 3.10",
   "language": "python",
   "name": "python3.10"
  },
  "language_info": {
   "codemirror_mode": {
    "name": "ipython",
    "version": 3
   },
   "file_extension": ".py",
   "mimetype": "text/x-python",
   "name": "python",
   "nbconvert_exporter": "python",
   "pygments_lexer": "ipython3",
   "version": "3.10.5"
  }
 },
 "nbformat": 4,
 "nbformat_minor": 1
}
