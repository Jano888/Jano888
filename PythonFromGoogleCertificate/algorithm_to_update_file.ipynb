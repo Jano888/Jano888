{
 "cells": [
  {
   "cell_type": "code",
   "execution_count": null,
   "metadata": {},
   "outputs": [],
   "source": [
    "#update a file using an algorithm\n",
    "\n",
    "#this is a multi-step process of putting the contents of a file into a new file so that it can be worked with\n",
    "#safely, turning that string into a list, iterating through to find the areas to update, then turning \n",
    "#the updated list back into a string and updating and saving the original file\n",
    "\n",
    "#'allow_list.txt' is the file we will be working with.\n",
    "#first step is to open the file and save it into a new file and convert that to a string using the read() method\n",
    "\n",
    "import_file = \"allow_list.txt\"\n",
    "\n",
    "with open(import_file, 'r') as file:\n",
    "    ip_addresses = file.read()\n",
    "    \n",
    "#next is to parse the file into a list using the .split() method\n",
    "#the empty argument in the .split() function means that it will split the string wherever there is a whitespace\n",
    "\n",
    "ip_addresses = ip_addresses.split()\n",
    "\n",
    "#next is to create a loop to extract the unwanted elements from the file\n",
    "\n",
    "for element in remove_list:\n",
    "    if element in ip_addresses:\n",
    "        ip_addresses.remove(element)\n",
    "        \n",
    "#now that the elements from the 'remove_list' have been extracted from the file, we can convert the list back\n",
    "#into a string and then rewrite the file with its updated data\n",
    "\n",
    "ip_addresses = .join(ip_addresses)\n",
    "\n",
    "with open (import_file, 'w') as file:\n",
    "    file.write(ip_addresses)"
   ]
  }
 ],
 "metadata": {
  "kernelspec": {
   "display_name": "Python 3.10",
   "language": "python",
   "name": "python3.10"
  },
  "language_info": {
   "codemirror_mode": {
    "name": "ipython",
    "version": 3
   },
   "file_extension": ".py",
   "mimetype": "text/x-python",
   "name": "python",
   "nbconvert_exporter": "python",
   "pygments_lexer": "ipython3",
   "version": "3.10.5"
  }
 },
 "nbformat": 4,
 "nbformat_minor": 1
}
