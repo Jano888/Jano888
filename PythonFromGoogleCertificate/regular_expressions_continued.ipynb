{
 "cells": [
  {
   "cell_type": "code",
   "execution_count": 17,
   "metadata": {},
   "outputs": [
    {
     "data": {
      "text/plain": [
       "['32', '17', '82', '29', '94']"
      ]
     },
     "execution_count": 17,
     "metadata": {},
     "output_type": "execute_result"
    }
   ],
   "source": [
    "#regular expressions continued\n",
    "\n",
    "#the curly brackets after the regex symbol indicate the number of occurences to find\n",
    "#the example below \"\\d{2}\" will return every instance of two concurrent digits\n",
    "\n",
    "#notice the '5' after 'k82' is not returned\n",
    "\n",
    "import re\n",
    "re.findall(\"\\d{2}\", \"h32rb17 k825t0m c2994eh\")"
   ]
  },
  {
   "cell_type": "code",
   "execution_count": 19,
   "metadata": {},
   "outputs": [
    {
     "data": {
      "text/plain": [
       "['32', '17', '825', '0', '299', '4']"
      ]
     },
     "execution_count": 19,
     "metadata": {},
     "output_type": "execute_result"
    }
   ],
   "source": [
    "#a range of characters can be searched by adding a second argument to the curly brackets\n",
    "#the following code \"\\d{1,3}\", returns any instance of one, two or three digits from the string\n",
    "\n",
    "#notice the '4' at the end of '2994' is returned as a separate digit\n",
    "\n",
    "import re\n",
    "re.findall(\"\\d{1,3}\", \"h32rb17 k825t0m c2994eh\")"
   ]
  },
  {
   "cell_type": "code",
   "execution_count": 20,
   "metadata": {},
   "outputs": [
    {
     "name": "stdout",
     "output_type": "stream",
     "text": [
      "['bmoreno: 12', 'tshah: 7', 'sgilmore: 5']\n"
     ]
    }
   ],
   "source": [
    "#rather than put a long list directly into the function, first assign the regex pattern and the search string\n",
    "#then create the function\n",
    "\n",
    "#the pattern \"\\w+:\\s\\d+\" looks for any size string of alphanumeric characters directly followed by a ':', \n",
    "#then a single space, then a digit of any length\n",
    "\n",
    "import re\n",
    "pattern = \"\\w+:\\s\\d+\"\n",
    "employee_logins_string = \"1001 bmoreno: 12 Marketing 1002 tshah: 7 Human Resources 1003 sgilmore: 5 Finance\"\n",
    "print(re.findall(pattern, employee_logins_string))"
   ]
  }
 ],
 "metadata": {
  "kernelspec": {
   "display_name": "Python 3.10",
   "language": "python",
   "name": "python3.10"
  },
  "language_info": {
   "codemirror_mode": {
    "name": "ipython",
    "version": 3
   },
   "file_extension": ".py",
   "mimetype": "text/x-python",
   "name": "python",
   "nbconvert_exporter": "python",
   "pygments_lexer": "ipython3",
   "version": "3.10.5"
  }
 },
 "nbformat": 4,
 "nbformat_minor": 1
}
