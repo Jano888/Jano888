{
 "cells": [
  {
   "cell_type": "code",
   "execution_count": 13,
   "metadata": {},
   "outputs": [
    {
     "name": "stdout",
     "output_type": "stream",
     "text": [
      "median: 20.5\n"
     ]
    }
   ],
   "source": [
    "#import the statistics module and use 'median' in a function\n",
    "\n",
    "#import the module\n",
    "#define the list of numbers as 'monthly_failed_attempts'\n",
    "#define 'median_failed_attempts' as equal to 'monthly_failed_attempts' run through the 'statistics.median()' function.\n",
    "#print the result \n",
    "\n",
    "import statistics\n",
    "monthly_failed_attempts = [20, 17, 178, 33, 15, 21, 19, 29, 32, 15, 25, 19]\n",
    "median_failed_attempts = statistics.median(monthly_failed_attempts)\n",
    "print(\"median:\", median_failed_attempts)\n"
   ]
  },
  {
   "cell_type": "code",
   "execution_count": 14,
   "metadata": {},
   "outputs": [
    {
     "name": "stdout",
     "output_type": "stream",
     "text": [
      "mean: 35.25\n",
      "median: 20.5\n"
     ]
    }
   ],
   "source": [
    "# import the 'mean' and 'median' functions from the statistics library, then use them both in a function\n",
    "\n",
    "\n",
    "from statistics import mean, median\n",
    "monthly_failed_attempts = [20, 17, 178, 33, 15, 21, 19, 29, 32, 15, 25, 19]\n",
    "mean_failed_attempts = mean(monthly_failed_attempts)\n",
    "print(\"mean:\", mean_failed_attempts)\n",
    "median_failed_attempts = median(monthly_failed_attempts)\n",
    "print(\"median:\", median_failed_attempts)"
   ]
  }
 ],
 "metadata": {
  "kernelspec": {
   "display_name": "Python 3.10",
   "language": "python",
   "name": "python3.10"
  },
  "language_info": {
   "codemirror_mode": {
    "name": "ipython",
    "version": 3
   },
   "file_extension": ".py",
   "mimetype": "text/x-python",
   "name": "python",
   "nbconvert_exporter": "python",
   "pygments_lexer": "ipython3",
   "version": "3.10.5"
  }
 },
 "nbformat": 4,
 "nbformat_minor": 1
}
