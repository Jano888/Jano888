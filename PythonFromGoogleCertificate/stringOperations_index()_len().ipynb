{
 "cells": [
  {
   "cell_type": "code",
   "execution_count": 1,
   "metadata": {},
   "outputs": [
    {
     "name": "stdout",
     "output_type": "stream",
     "text": [
      "h\n",
      "h\n"
     ]
    }
   ],
   "source": [
    "#indicies explained... the index() function\n",
    "\n",
    "#use square brackets to indicate which character I want to extract from a string\n",
    "\n",
    "#the index of [0] will return the first character from the string\n",
    "\n",
    "device_id = \"h32rb17\"\n",
    "print(\"h32rb17\"[0])\n",
    "print(device_id[0])"
   ]
  },
  {
   "cell_type": "code",
   "execution_count": 2,
   "metadata": {},
   "outputs": [
    {
     "name": "stdout",
     "output_type": "stream",
     "text": [
      "h32\n"
     ]
    }
   ],
   "source": [
    "#a range of indices can also be returned\n",
    "\n",
    "#the range of [0:3] will return the first three characters from the string\n",
    "\n",
    "print(\"h32rb17\"[0:3])"
   ]
  },
  {
   "cell_type": "code",
   "execution_count": 3,
   "metadata": {},
   "outputs": [
    {
     "name": "stdout",
     "output_type": "stream",
     "text": [
      "The device ID has 7 characters.\n"
     ]
    }
   ],
   "source": [
    "#the len() function will return the number of characters in a string\n",
    "\n",
    "device_id_length = len(\"h32rb17\")\n",
    "if device_id_length == 7:\n",
    "    print(\"The device ID has 7 characters.\")"
   ]
  },
  {
   "cell_type": "code",
   "execution_count": 4,
   "metadata": {},
   "outputs": [
    {
     "name": "stdout",
     "output_type": "stream",
     "text": [
      "3\n"
     ]
    }
   ],
   "source": [
    "#the index() function can also be used to describe where a particular character is within a string\n",
    "\n",
    "#this code returns an index for where the character 'r' is in the string\n",
    "\n",
    "#the index of 3 is returned which indicates 'r' is the fourth character in the string\n",
    "\n",
    "print(\"h32rb17\".index(\"r\"))"
   ]
  }
 ],
 "metadata": {
  "kernelspec": {
   "display_name": "Python 3.10",
   "language": "python",
   "name": "python3.10"
  },
  "language_info": {
   "codemirror_mode": {
    "name": "ipython",
    "version": 3
   },
   "file_extension": ".py",
   "mimetype": "text/x-python",
   "name": "python",
   "nbconvert_exporter": "python",
   "pygments_lexer": "ipython3",
   "version": "3.10.5"
  }
 },
 "nbformat": 4,
 "nbformat_minor": 1
}
