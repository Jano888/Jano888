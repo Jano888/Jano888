{
 "cells": [
  {
   "cell_type": "code",
   "execution_count": 3,
   "metadata": {},
   "outputs": [
    {
     "name": "stdout",
     "output_type": "stream",
     "text": [
      "before .join(): ['elarson', 'bmoreno', 'tshah', 'sgilmore', 'eraab']\n",
      "after .join(): elarson,bmoreno,tshah,sgilmore,eraab\n"
     ]
    }
   ],
   "source": [
    "#parse a list into a string separated by commas using the .join() method\n",
    "#the variable is put into the .join() argument and any character used to separate the list item like a comma, \n",
    "#is put in quotations before .join()\n",
    "\n",
    "approved_users = [\"elarson\", \"bmoreno\", \"tshah\", \"sgilmore\", \"eraab\"]\n",
    "print(\"before .join():\", approved_users)\n",
    "approved_users = \",\".join(approved_users)\n",
    "print(\"after .join():\", approved_users)"
   ]
  },
  {
   "cell_type": "code",
   "execution_count": null,
   "metadata": {},
   "outputs": [],
   "source": [
    "#in python, files must be stored as strings\n",
    "#when you are finished working with the data and are ready to 'write' to the file,\n",
    "#you could use the code below to both join the list data and write (and save) the new file\n",
    "\n",
    "updates = \" \".join(updates)\n",
    "with open(\"update_log.txt\", \"w\") as file:\n",
    "    file.write(updates)"
   ]
  }
 ],
 "metadata": {
  "kernelspec": {
   "display_name": "Python 3.10",
   "language": "python",
   "name": "python3.10"
  },
  "language_info": {
   "codemirror_mode": {
    "name": "ipython",
    "version": 3
   },
   "file_extension": ".py",
   "mimetype": "text/x-python",
   "name": "python",
   "nbconvert_exporter": "python",
   "pygments_lexer": "ipython3",
   "version": "3.10.5"
  }
 },
 "nbformat": 4,
 "nbformat_minor": 1
}
