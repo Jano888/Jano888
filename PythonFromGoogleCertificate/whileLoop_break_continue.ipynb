{
 "cells": [
  {
   "cell_type": "code",
   "execution_count": 4,
   "metadata": {},
   "outputs": [
    {
     "name": "stdout",
     "output_type": "stream",
     "text": [
      "laptop1\n"
     ]
    }
   ],
   "source": [
    "#Create a for loop with a break\n",
    "#A break stops the loop when a condition has been met\n",
    "\n",
    "computer_assets = [\"laptop1\", \"desktop20\", \"smartphone03\"]\n",
    "for asset in computer_assets:\n",
    "    if asset == \"desktop20\":\n",
    "        break\n",
    "    print(asset)"
   ]
  },
  {
   "cell_type": "code",
   "execution_count": 5,
   "metadata": {},
   "outputs": [
    {
     "name": "stdout",
     "output_type": "stream",
     "text": [
      "laptop1\n",
      "smartphone03\n"
     ]
    }
   ],
   "source": [
    "#Create a for loop with continue\n",
    "#continue skips an iteration when a condition has been met\n",
    "\n",
    "computer_assets = [\"laptop1\", \"desktop20\", \"smartphone03\"]\n",
    "for asset in computer_assets:\n",
    "    if asset == \"desktop20\":\n",
    "        continue\n",
    "    print(asset)"
   ]
  }
 ],
 "metadata": {
  "kernelspec": {
   "display_name": "Python 3.10",
   "language": "python",
   "name": "python3.10"
  },
  "language_info": {
   "codemirror_mode": {
    "name": "ipython",
    "version": 3
   },
   "file_extension": ".py",
   "mimetype": "text/x-python",
   "name": "python",
   "nbconvert_exporter": "python",
   "pygments_lexer": "ipython3",
   "version": "3.10.5"
  }
 },
 "nbformat": 4,
 "nbformat_minor": 1
}
