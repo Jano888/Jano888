{
 "cells": [
  {
   "cell_type": "code",
   "execution_count": null,
   "metadata": {},
   "outputs": [],
   "source": [
    "#importing files into python\n",
    "\n",
    "#use the open() to read a file called \"update_log.txt\".  \n",
    "#the first argument in the open() is the file name, the second argument is either \"r\", \"w\" or \"a\"...\n",
    "#for read, write or append\n",
    "\n",
    "with open(\"update_log.txt\", \"r\") as file:\n",
    "    updates = file.read()\n",
    "print(updates)"
   ]
  },
  {
   "cell_type": "code",
   "execution_count": null,
   "metadata": {},
   "outputs": [],
   "source": [
    "#use the write function to replace the contents of a file\n",
    "\n",
    "new_file = \"jrafael,192.168.243.140,4:56:27,True\"\n",
    "with open(\"update_log.txt\", \"w\") as file:\n",
    "    file.write(new_file)"
   ]
  },
  {
   "cell_type": "code",
   "execution_count": null,
   "metadata": {},
   "outputs": [],
   "source": [
    "#append the string called 'line' to the file \"access_log.txt\"\n",
    "\n",
    "line = \"jrafael,192.168.243.140,4:56:27,True\"\n",
    "with open(\"access_log.txt\", \"a\") as file:\n",
    "    file.write(line)"
   ]
  }
 ],
 "metadata": {
  "kernelspec": {
   "display_name": "Python 3.10",
   "language": "python",
   "name": "python3.10"
  },
  "language_info": {
   "codemirror_mode": {
    "name": "ipython",
    "version": 3
   },
   "file_extension": ".py",
   "mimetype": "text/x-python",
   "name": "python",
   "nbconvert_exporter": "python",
   "pygments_lexer": "ipython3",
   "version": "3.10.5"
  }
 },
 "nbformat": 4,
 "nbformat_minor": 1
}
