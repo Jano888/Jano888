{
 "cells": [
  {
   "cell_type": "code",
   "execution_count": 1,
   "metadata": {},
   "outputs": [
    {
     "name": "stdout",
     "output_type": "stream",
     "text": [
      "application_log:\n",
      "investigate activity\n"
     ]
    }
   ],
   "source": [
    "def display_investigation_message():\n",
    "    print(\"investigate activity\")\n",
    "application_status = \"potential concern\"\n",
    "email_status = \"okay\"\n",
    "if application_status == \"potential concern\":\n",
    "    print(\"application_log:\")\n",
    "    display_investigation_message()\n",
    "if email_status == \"potential concern\":\n",
    "    print(\"email log:\")\n",
    "    display_investigation_message()"
   ]
  }
 ],
 "metadata": {
  "kernelspec": {
   "display_name": "Python 3.10",
   "language": "python",
   "name": "python3.10"
  },
  "language_info": {
   "codemirror_mode": {
    "name": "ipython",
    "version": 3
   },
   "file_extension": ".py",
   "mimetype": "text/x-python",
   "name": "python",
   "nbconvert_exporter": "python",
   "pygments_lexer": "ipython3",
   "version": "3.10.5"
  }
 },
 "nbformat": 4,
 "nbformat_minor": 1
}
