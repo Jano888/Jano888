{
 "cells": [
  {
   "cell_type": "code",
   "execution_count": 12,
   "metadata": {},
   "outputs": [
    {
     "data": {
      "text/plain": [
       "['ts', 'ts']"
      ]
     },
     "execution_count": 12,
     "metadata": {},
     "output_type": "execute_result"
    }
   ],
   "source": [
    "#import the regular expression (regex) module and use the re.findall function\n",
    "\n",
    "#two arguments go into re.findall(1,2).  The first argument is the string I'm looking for\n",
    "#and the second is the string to search through\n",
    "\n",
    "import re\n",
    "re.findall(\"ts\", \"tsnow, tshah, bmoreno\")"
   ]
  },
  {
   "cell_type": "code",
   "execution_count": 13,
   "metadata": {},
   "outputs": [
    {
     "data": {
      "text/plain": [
       "['h', '3', '2', 'r', 'b', '1', '7']"
      ]
     },
     "execution_count": 13,
     "metadata": {},
     "output_type": "execute_result"
    }
   ],
   "source": [
    "#regex symbols can help when searching for strings\n",
    "\n",
    "#the \"\\w\" symbol matches with any alphanumeric character and the underscore '_'\n",
    "\n",
    "# . matches to all characters, including symbols\n",
    "\n",
    "# \\d matches to all single digits [0-9]\n",
    "\n",
    "# \\s matches to all single spaces \n",
    "\n",
    "# \\. matches to the period character\n",
    "\n",
    "#the following code will return every individual character from the string\n",
    "\n",
    "import re\n",
    "re.findall(\"\\w\", \"h32rb17\")"
   ]
  },
  {
   "cell_type": "code",
   "execution_count": 14,
   "metadata": {},
   "outputs": [
    {
     "data": {
      "text/plain": [
       "['3', '2', '1', '7']"
      ]
     },
     "execution_count": 14,
     "metadata": {},
     "output_type": "execute_result"
    }
   ],
   "source": [
    "#the \"\\d\" symbol matches with any single digit\n",
    "\n",
    "import re\n",
    "re.findall(\"\\d\", \"h32rb17\")"
   ]
  },
  {
   "cell_type": "code",
   "execution_count": 15,
   "metadata": {},
   "outputs": [
    {
     "data": {
      "text/plain": [
       "['32', '17']"
      ]
     },
     "execution_count": 15,
     "metadata": {},
     "output_type": "execute_result"
    }
   ],
   "source": [
    "#the \"+\" symbol added to the previous regex symbols indicates one or more occurences of the specific character\n",
    "\n",
    "import re\n",
    "re.findall(\"\\d+\", \"h32rb17\")"
   ]
  },
  {
   "cell_type": "code",
   "execution_count": 16,
   "metadata": {},
   "outputs": [
    {
     "data": {
      "text/plain": [
       "['', '32', '', '', '17', '']"
      ]
     },
     "execution_count": 16,
     "metadata": {},
     "output_type": "execute_result"
    }
   ],
   "source": [
    "#the \"*\" symbol indicates zero, one or more occurences of the specific character\n",
    "\n",
    "#so in this case it returns empty lists where there are no digits\n",
    "\n",
    "import re\n",
    "re.findall(\"\\d*\", \"h32rb17\")"
   ]
  }
 ],
 "metadata": {
  "kernelspec": {
   "display_name": "Python 3.10",
   "language": "python",
   "name": "python3.10"
  },
  "language_info": {
   "codemirror_mode": {
    "name": "ipython",
    "version": 3
   },
   "file_extension": ".py",
   "mimetype": "text/x-python",
   "name": "python",
   "nbconvert_exporter": "python",
   "pygments_lexer": "ipython3",
   "version": "3.10.5"
  }
 },
 "nbformat": 4,
 "nbformat_minor": 1
}
