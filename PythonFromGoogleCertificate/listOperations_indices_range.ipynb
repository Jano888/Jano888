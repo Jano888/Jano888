{
 "cells": [
  {
   "cell_type": "code",
   "execution_count": 5,
   "metadata": {},
   "outputs": [
    {
     "name": "stdout",
     "output_type": "stream",
     "text": [
      "tshah\n"
     ]
    }
   ],
   "source": [
    "#list operations\n",
    "\n",
    "#define a list and then put the index from the list that you want in square brackets after the list name\n",
    "\n",
    "username_list = [\"elarson\", \"fgarcia\", \"tshah\", \"sgilmore\"]\n",
    "print(username_list[2])"
   ]
  },
  {
   "cell_type": "code",
   "execution_count": 6,
   "metadata": {},
   "outputs": [
    {
     "name": "stdout",
     "output_type": "stream",
     "text": [
      "tshah\n"
     ]
    }
   ],
   "source": [
    "#the same process can be used without first converting the list to a variable\n",
    "\n",
    "#the list is in square brackets followed by the index number in square brackets\n",
    "\n",
    "print([\"elarson\", \"fgarcia\", \"tshah\", \"sgilmore\"][2])"
   ]
  },
  {
   "cell_type": "code",
   "execution_count": 7,
   "metadata": {},
   "outputs": [
    {
     "name": "stdout",
     "output_type": "stream",
     "text": [
      "['elarson', 'fgarcia']\n"
     ]
    }
   ],
   "source": [
    "#the same process can be used with a range of items\n",
    "\n",
    "#[0:2] indicates that the first two items from the list will be returned\n",
    "\n",
    "username_list = [\"elarson\", \"fgarcia\", \"tshah\", \"sgilmore\"]\n",
    "print(username_list[0:2])"
   ]
  }
 ],
 "metadata": {
  "kernelspec": {
   "display_name": "Python 3.10",
   "language": "python",
   "name": "python3.10"
  },
  "language_info": {
   "codemirror_mode": {
    "name": "ipython",
    "version": 3
   },
   "file_extension": ".py",
   "mimetype": "text/x-python",
   "name": "python",
   "nbconvert_exporter": "python",
   "pygments_lexer": "ipython3",
   "version": "3.10.5"
  }
 },
 "nbformat": 4,
 "nbformat_minor": 1
}
