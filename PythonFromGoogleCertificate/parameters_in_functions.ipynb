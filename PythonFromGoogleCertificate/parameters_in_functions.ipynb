{
 "cells": [
  {
   "cell_type": "code",
   "execution_count": 3,
   "metadata": {},
   "outputs": [
    {
     "name": "stdout",
     "output_type": "stream",
     "text": [
      "Welcome to work Jan Sobel\n"
     ]
    }
   ],
   "source": [
    "#parameters in functions\n",
    "#the function \"greet_employee\" is defined with the parameters \"first_name\" and \"last name\".\n",
    "#then the function is called and variables are inserted to the parameters\n",
    "\n",
    "def greet_employee(first_name, last_name):\n",
    "    print(\"Welcome to work\", first_name, last_name)\n",
    "    \n",
    "greet_employee(\"Jan\", \"Sobel\")"
   ]
  },
  {
   "cell_type": "code",
   "execution_count": 4,
   "metadata": {},
   "outputs": [
    {
     "name": "stdout",
     "output_type": "stream",
     "text": [
      "Welcome to the zoo pink giraffe\n"
     ]
    }
   ],
   "source": [
    "#another example\n",
    "\n",
    "def welcome_zoo(color, animal):\n",
    "    print(\"Welcome to the zoo\", color, animal)\n",
    "    \n",
    "welcome_zoo(\"pink\", \"giraffe\")"
   ]
  }
 ],
 "metadata": {
  "kernelspec": {
   "display_name": "Python 3.10",
   "language": "python",
   "name": "python3.10"
  },
  "language_info": {
   "codemirror_mode": {
    "name": "ipython",
    "version": 3
   },
   "file_extension": ".py",
   "mimetype": "text/x-python",
   "name": "python",
   "nbconvert_exporter": "python",
   "pygments_lexer": "ipython3",
   "version": "3.10.5"
  }
 },
 "nbformat": 4,
 "nbformat_minor": 1
}
