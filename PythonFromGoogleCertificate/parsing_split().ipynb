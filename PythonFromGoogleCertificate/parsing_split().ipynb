{
 "cells": [
  {
   "cell_type": "code",
   "execution_count": 1,
   "metadata": {},
   "outputs": [
    {
     "name": "stdout",
     "output_type": "stream",
     "text": [
      "before .split(): elarson,bmoreno,tshah,sgilmore,eraab\n",
      "after .split(): ['elarson', 'bmoreno', 'tshah', 'sgilmore', 'eraab']\n"
     ]
    }
   ],
   "source": [
    "#parsing files using the .split() method\n",
    "\n",
    "#parse a string where the items you want to separate all have a comma between them\n",
    "#apply the variable to the split method with comma as the argument\n",
    "#string = string.split(\",\")\n",
    "\n",
    "#this will split the string into a more readable list\n",
    "\n",
    "approved_users = \"elarson,bmoreno,tshah,sgilmore,eraab\"\n",
    "print(\"before .split():\", approved_users)\n",
    "approved_users = approved_users.split(\",\")\n",
    "print(\"after .split():\", approved_users)"
   ]
  },
  {
   "cell_type": "code",
   "execution_count": 2,
   "metadata": {},
   "outputs": [
    {
     "name": "stdout",
     "output_type": "stream",
     "text": [
      "before .split(): wjaffrey jsoto abernard jhill awilliam\n",
      "after .split(): ['wjaffrey', 'jsoto', 'abernard', 'jhill', 'awilliam']\n"
     ]
    }
   ],
   "source": [
    "#parse another string where items are separated by a space by leaving the argument empty\n",
    "\n",
    "removed_users = \"wjaffrey jsoto abernard jhill awilliam\"\n",
    "print(\"before .split():\", removed_users)\n",
    "removed_users = removed_users.split()\n",
    "print(\"after .split():\", removed_users)"
   ]
  },
  {
   "cell_type": "code",
   "execution_count": null,
   "metadata": {},
   "outputs": [],
   "source": [
    "#this method is also used to parse files at the same time as you open them\n",
    "#again, it will apply the split at every whitespace\n",
    "\n",
    "with open(\"update_log.txt\", \"r\") as file:\n",
    "    updates = file.read()\n",
    "updates = updates.split()"
   ]
  }
 ],
 "metadata": {
  "kernelspec": {
   "display_name": "Python 3.10",
   "language": "python",
   "name": "python3.10"
  },
  "language_info": {
   "codemirror_mode": {
    "name": "ipython",
    "version": 3
   },
   "file_extension": ".py",
   "mimetype": "text/x-python",
   "name": "python",
   "nbconvert_exporter": "python",
   "pygments_lexer": "ipython3",
   "version": "3.10.5"
  }
 },
 "nbformat": 4,
 "nbformat_minor": 1
}
