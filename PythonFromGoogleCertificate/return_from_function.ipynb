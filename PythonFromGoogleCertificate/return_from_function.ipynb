{
 "cells": [
  {
   "cell_type": "code",
   "execution_count": 6,
   "metadata": {},
   "outputs": [
    {
     "name": "stdout",
     "output_type": "stream",
     "text": [
      "You are locked out.\n"
     ]
    }
   ],
   "source": [
    "#return information from a function\n",
    "#define calculate_fails as failed_attempts divided by total_attempts as the variable fail_percentage.  \n",
    "#return fail_percentage\n",
    "\n",
    "def calculate_fails(total_attempts, failed_attempts):\n",
    "    fail_percentage = failed_attempts / total_attempts\n",
    "    return fail_percentage\n",
    "\n",
    "#the arguments (4,2) are entered into the function and the result is stored in the variable 'percentage'\n",
    "\n",
    "percentage = calculate_fails(4,2)\n",
    "\n",
    "#if percentage is below the threshold, print \"You are locked out.\"\n",
    "\n",
    "if (percentage >= .5):\n",
    "    print(\"You are locked out.\")"
   ]
  }
 ],
 "metadata": {
  "kernelspec": {
   "display_name": "Python 3.10",
   "language": "python",
   "name": "python3.10"
  },
  "language_info": {
   "codemirror_mode": {
    "name": "ipython",
    "version": 3
   },
   "file_extension": ".py",
   "mimetype": "text/x-python",
   "name": "python",
   "nbconvert_exporter": "python",
   "pygments_lexer": "ipython3",
   "version": "3.10.5"
  }
 },
 "nbformat": 4,
 "nbformat_minor": 1
}
